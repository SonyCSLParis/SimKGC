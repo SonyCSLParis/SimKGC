{
 "cells": [
  {
   "cell_type": "markdown",
   "id": "26c8f03e",
   "metadata": {},
   "source": [
    "# Analysis of SimKGC experiments"
   ]
  },
  {
   "cell_type": "code",
   "execution_count": null,
   "id": "e60daf9d",
   "metadata": {},
   "outputs": [],
   "source": [
    "import pandas as pd\n",
    "from scipy import stats"
   ]
  },
  {
   "cell_type": "code",
   "execution_count": null,
   "id": "53c4c6cb",
   "metadata": {},
   "outputs": [],
   "source": [
    "def add_static_info(df):\n",
    "    df[\"method\"] = \"SimKGC\"\n",
    "    df[\"td\"] = \"simple-triple+text\"\n",
    "    return df"
   ]
  },
  {
   "cell_type": "code",
   "execution_count": null,
   "id": "f3c79c84",
   "metadata": {},
   "outputs": [],
   "source": [
    "PATH = \"results/results.csv\"\n",
    "MAIN_METRIC = \"MRR\"\n",
    "ETA = [\"prop\", \"subevent\", \"role\", \"causation\"]\n",
    "HP = [\"lr\", \"epoch\", \"batch_size\"]\n",
    "\n",
    "METRICS = [\n",
    "    (\"mrr\", \"MRR\"),\n",
    "    (\"hit@1\", \"H@1\"),\n",
    "    (\"hit@3\", \"H@3\"),\n",
    "    (\"hit@10\", \"H@10\") \n",
    "]\n",
    "\n",
    "df = pd.read_csv(PATH, index_col=0)\n",
    "df = df.rename(columns={x: k for x, k in METRICS})\n",
    "METRICS = [x[1] for x in METRICS]\n",
    "print(f\"# experiments: {len(df)}\")\n",
    "df.head(3)"
   ]
  },
  {
   "cell_type": "code",
   "execution_count": null,
   "id": "03f8433d",
   "metadata": {},
   "outputs": [],
   "source": [
    "print(\"PARAMS\")\n",
    "for p in [\"lr\", \"batch_size\", \"epoch\"]:\n",
    "    print(f\"{p}: {df[p].unique()}\")\n",
    "    print(df[p].value_counts())"
   ]
  },
  {
   "cell_type": "code",
   "execution_count": null,
   "id": "f5b24700",
   "metadata": {},
   "outputs": [],
   "source": [
    "# Data description\n",
    "nb_exp = df.shape[0]\n",
    "nb_unfinished = df[df['finished'] == 0].shape[0]\n",
    "print(f\"\"\"\n",
    "For SimKGC, {nb_exp} experiments were run, of which {nb_unfinished} ({round(100*nb_unfinished/nb_exp, 2)}%) were unfinished due to memory errors.\n",
    "\"\"\")"
   ]
  },
  {
   "cell_type": "code",
   "execution_count": null,
   "id": "3ec6700c",
   "metadata": {},
   "outputs": [],
   "source": [
    "df_finished_w_metric = df[(df['finished'] == 1) & (~df[MAIN_METRIC].isna())]\n",
    "print(df_finished_w_metric.shape[0])\n",
    "df_finished_w_metric.head(3)"
   ]
  },
  {
   "cell_type": "code",
   "execution_count": null,
   "id": "92f1c0ff",
   "metadata": {},
   "outputs": [],
   "source": [
    "df_finished_w_metric[df_finished_w_metric.causation == 1].to_csv(\"results/results_syntax.csv\")"
   ]
  },
  {
   "cell_type": "code",
   "execution_count": null,
   "id": "bbc61221",
   "metadata": {},
   "outputs": [],
   "source": [
    "eta_counts = df_finished_w_metric.groupby(ETA).size().reset_index(name='exp_count')\n",
    "df_finished_w_metric = df_finished_w_metric.merge(eta_counts, on=ETA, how='left')\n",
    "eta_counts"
   ]
  },
  {
   "cell_type": "code",
   "execution_count": null,
   "id": "b37b1797",
   "metadata": {},
   "outputs": [],
   "source": [
    "def print_corr(df, cols_param, cols_metric):\n",
    "    for col in cols_param:\n",
    "        for m in cols_metric:\n",
    "            res = stats.spearmanr(df[col], df[m])\n",
    "            print(f\"{col.upper()}:\\t vs. {m.upper()}: {res.statistic:.4f}, p={res.pvalue:.4f}\")\n",
    "\n",
    "print(\"Spearman correlations: ALL\")\n",
    "print(\"Semantic--\")\n",
    "print_corr(df=df_finished_w_metric, cols_param=[\"prop\", \"subevent\", \"causation\"], cols_metric=METRICS)"
   ]
  },
  {
   "cell_type": "code",
   "execution_count": null,
   "id": "7613126e",
   "metadata": {},
   "outputs": [],
   "source": [
    "data = []\n",
    "for eta, group in df_finished_w_metric.groupby(ETA):\n",
    "    for hp in HP:\n",
    "        for m in METRICS:\n",
    "            res = stats.spearmanr(group[hp], group[m])\n",
    "            data.append(list(eta) + [hp, m, res.statistic, res.pvalue])\n",
    "df_corr_hp_metric = pd.DataFrame(\n",
    "    data,\n",
    "    columns=ETA + [\"hp\", \"metric\", \"corr\", \"pval\"]\n",
    ")\n",
    "df_corr_hp_metric = df_corr_hp_metric.merge(eta_counts, on=ETA, how='left')\n",
    "add_static_info(df_corr_hp_metric).to_csv(\"results/corr_hp_metric_per_eta.csv\")\n",
    "df_corr_hp_metric.head(3)"
   ]
  },
  {
   "cell_type": "code",
   "execution_count": null,
   "id": "861fcd63",
   "metadata": {},
   "outputs": [],
   "source": [
    "df_corr_hp_metric[df_corr_hp_metric.pval < 0.05]"
   ]
  },
  {
   "cell_type": "code",
   "execution_count": null,
   "id": "4b415c5d",
   "metadata": {},
   "outputs": [],
   "source": [
    "import plotly.express as px\n",
    "fig = px.histogram(df_finished_w_metric, x=\"MRR\", color=\"batch_size\")\n",
    "fig.show()"
   ]
  },
  {
   "cell_type": "code",
   "execution_count": null,
   "id": "38730c53",
   "metadata": {},
   "outputs": [],
   "source": [
    "ranks = df_finished_w_metric.groupby(ETA)[\"MRR\"].rank(method='max', ascending=False)\n",
    "df_finished_w_metric[\"rank\"] = ranks\n",
    "add_static_info(df_finished_w_metric[df_finished_w_metric[\"rank\"]==1][ETA + HP + [\"exp_count\", \"syntax\"]]).to_csv(\"results/best_hp_per_eta.csv\")\n",
    "df_finished_w_metric[df_finished_w_metric[\"rank\"]==1][ETA + HP]"
   ]
  },
  {
   "cell_type": "code",
   "execution_count": null,
   "id": "3b8bc8a4",
   "metadata": {},
   "outputs": [],
   "source": [
    "add_static_info(df_finished_w_metric[df_finished_w_metric[\"rank\"]==1][ETA + METRICS + [\"exp_count\", \"syntax\"]]).to_csv(\"results/best_metric_per_eta.csv\")\n",
    "df_finished_w_metric[df_finished_w_metric[\"rank\"]==1][ETA + METRICS]"
   ]
  },
  {
   "cell_type": "code",
   "execution_count": null,
   "id": "509b174a",
   "metadata": {},
   "outputs": [],
   "source": [
    "ETA = [\"prop\", \"subevent\", \"role\", \"causation\"]\n",
    "df_paper_metric_per_eta = df_finished_w_metric[df_finished_w_metric[\"rank\"]==1][ETA + METRICS].copy()\n",
    "df_paper_metric_per_eta[\"sum\"] = df_paper_metric_per_eta[[\"prop\", \"subevent\", \"causation\"]].sum(axis=1)\n",
    "\n",
    "base_mrr, base_h1, base_h3, base_h10 = df_paper_metric_per_eta[(df_paper_metric_per_eta.prop==0)&(df_paper_metric_per_eta.subevent==0)&(df_paper_metric_per_eta.role==0)&(df_paper_metric_per_eta.causation==0)][[\"MRR\", \"H@1\", \"H@3\", \"H@10\"]].values.tolist()[0]\n",
    "print(base_mrr, base_h1, base_h3, base_h10)\n",
    "\n",
    "df_paper_metric_per_eta[\"delta_MRR\"] = df_paper_metric_per_eta[\"MRR\"] - base_mrr\n",
    "df_paper_metric_per_eta[\"delta_H@1\"] = df_paper_metric_per_eta[\"H@1\"] - base_h1\n",
    "df_paper_metric_per_eta[\"delta_H@3\"] = df_paper_metric_per_eta[\"H@3\"] - base_h3\n",
    "df_paper_metric_per_eta[\"delta_H@10\"] = df_paper_metric_per_eta[\"H@10\"] - base_h10\n",
    "columns = ETA\n",
    "for col in METRICS:\n",
    "    columns.extend([col, f\"delta_{col}\"])\n",
    "df_paper_metric_per_eta.sort_values(by=[\"prop\", \"subevent\", \"role\", \"causation\"])[columns].round(2).to_csv(\"results/paper_metric_per_eta.csv\")\n",
    "df_paper_metric_per_eta.sort_values(by=[\"prop\", \"subevent\", \"role\", \"causation\"])[columns].round(2)\n"
   ]
  },
  {
   "cell_type": "code",
   "execution_count": null,
   "id": "a80c715b",
   "metadata": {},
   "outputs": [],
   "source": [
    "ETA = [\"prop\", \"subevent\", \"role\", \"causation\"]\n",
    "ranks_syntax = df_finished_w_metric.groupby(ETA+[\"syntax\"])[\"MRR\"].rank(method='max', ascending=True)\n",
    "df_finished_w_metric[\"ranks_syntax\"] = ranks_syntax\n",
    "df_finished_w_metric[df_finished_w_metric.ranks_syntax==1].pivot_table(index=ETA, columns=\"syntax\", values=\"MRR\")"
   ]
  },
  {
   "cell_type": "code",
   "execution_count": null,
   "id": "cbfe7fce",
   "metadata": {},
   "outputs": [],
   "source": []
  }
 ],
 "metadata": {
  "kernelspec": {
   "display_name": "SimKGC",
   "language": "python",
   "name": "python3"
  },
  "language_info": {
   "codemirror_mode": {
    "name": "ipython",
    "version": 3
   },
   "file_extension": ".py",
   "mimetype": "text/x-python",
   "name": "python",
   "nbconvert_exporter": "python",
   "pygments_lexer": "ipython3",
   "version": "3.11.0"
  }
 },
 "nbformat": 4,
 "nbformat_minor": 5
}
